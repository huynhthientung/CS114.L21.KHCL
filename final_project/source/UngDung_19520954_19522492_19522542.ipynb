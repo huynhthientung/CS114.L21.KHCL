{
  "nbformat": 4,
  "nbformat_minor": 0,
  "metadata": {
    "accelerator": "GPU",
    "colab": {
      "name": "UngDung_19520954_19522492_19522542.ipynb",
      "provenance": [],
      "collapsed_sections": []
    },
    "kernelspec": {
      "display_name": "Python 3",
      "name": "python3"
    },
    "language_info": {
      "name": "python"
    }
  },
  "cells": [
    {
      "cell_type": "markdown",
      "metadata": {
        "id": "0mRW4zrVQo9s"
      },
      "source": [
        "Tóm tắt quá trình chính của phần ứng dụng:\n",
        "1. Load thư viện cần thiết.\n",
        "2. Tải model đã train trong báo cáo và load model.\n",
        "3. Tải và load video Input.\n",
        "4. Tách video thành các frame.\n",
        "5. Model dự đoán trên các frame và đánh label từng frame.\n",
        "6. Ghép các frame đã đánh label thành video với frame rate của video gốc."
      ]
    },
    {
      "cell_type": "markdown",
      "metadata": {
        "id": "5QIjvzgp3BxK"
      },
      "source": [
        "Thêm vào các thư viện cần sử dụng."
      ]
    },
    {
      "cell_type": "code",
      "metadata": {
        "id": "DHyxN9x83BQA"
      },
      "source": [
        "import os\n",
        "import cv2\n",
        "import numpy as np\n",
        "import PIL\n",
        "import tensorflow as tf\n",
        "from tensorflow import keras\n",
        "from tensorflow.keras.preprocessing import image"
      ],
      "execution_count": null,
      "outputs": []
    },
    {
      "cell_type": "markdown",
      "metadata": {
        "id": "INDIDaFwPNtX"
      },
      "source": [
        "Tải video để mô hình dự đoán."
      ]
    },
    {
      "cell_type": "code",
      "metadata": {
        "id": "cH3wkOG-PNCK"
      },
      "source": [
        "!gdown --id 1iONnVLP-ibMB53e_JNloWpJFooYqsD6j\n",
        "!gdown --id 18m2luBnJv-63D2I0kJq8Iu-t5lcGRlSV"
      ],
      "execution_count": null,
      "outputs": []
    },
    {
      "cell_type": "markdown",
      "metadata": {
        "id": "PpzJlQ-XPKu5"
      },
      "source": [
        "Tải model CNN_SVM đã được train từ file báo cáo."
      ]
    },
    {
      "cell_type": "code",
      "metadata": {
        "colab": {
          "base_uri": "https://localhost:8080/"
        },
        "id": "bDEhsV0ntSxZ",
        "outputId": "f7ce80fb-0d4b-4a87-c064-8c651ff4698a"
      },
      "source": [
        "!gdown --id 1M7jvQixVuinrWLPTpTvxHgztUBt4B5JB"
      ],
      "execution_count": null,
      "outputs": [
        {
          "output_type": "stream",
          "text": [
            "Downloading...\n",
            "From: https://drive.google.com/uc?id=1M7jvQixVuinrWLPTpTvxHgztUBt4B5JB\n",
            "To: /content/video_model.h5\n",
            "38.7MB [00:01, 30.6MB/s]\n"
          ],
          "name": "stdout"
        }
      ]
    },
    {
      "cell_type": "markdown",
      "metadata": {
        "id": "nbsrL4UnPAQL"
      },
      "source": [
        "Load model."
      ]
    },
    {
      "cell_type": "code",
      "metadata": {
        "colab": {
          "base_uri": "https://localhost:8080/"
        },
        "id": "RmGwZ8lIpFAv",
        "outputId": "1cdc86a8-bcac-499c-b31e-ccf56fdc5d35"
      },
      "source": [
        "# Load the best model\n",
        "try:\n",
        "  model = keras.models.load_model(filepath=\"/content/video_model.h5\")\n",
        "  print(\"Load Model Successfully!\")\n",
        "except:\n",
        "  print(\"Failed to load model! Please check again!\")"
      ],
      "execution_count": null,
      "outputs": [
        {
          "output_type": "stream",
          "text": [
            "Load Model Successfully!\n"
          ],
          "name": "stdout"
        }
      ]
    },
    {
      "cell_type": "markdown",
      "metadata": {
        "id": "4c8nBcNEtwe1"
      },
      "source": [
        "# Dự đoán của mô hình."
      ]
    },
    {
      "cell_type": "markdown",
      "metadata": {
        "id": "VA3mgh_QPlwE"
      },
      "source": [
        "Định nghĩa hàm tách video thành các frames và hàm clean (để xoá dữ liệu trong folder cũ khi test video mới)."
      ]
    },
    {
      "cell_type": "code",
      "metadata": {
        "id": "qhEH4sQl1Gyh"
      },
      "source": [
        "def video_to_images(inp, out):\n",
        "  global FPS_\n",
        "  video_cap = cv2.VideoCapture(inp)\n",
        "  FPS_ = int(video_cap.get(cv2.CAP_PROP_FPS))\n",
        "  success, image = video_cap.read()\n",
        "  count = 0\n",
        "  while success:\n",
        "    video_cap.set(cv2.cv2.CAP_PROP_FPS, FPS_)\n",
        "    cv2.imwrite(out + str(count) + \".jpg\" , image)\n",
        "    success, image = video_cap.read()\n",
        "    count += 1\n",
        "  video_cap.release()\n",
        "  cv2.destroyAllWindows()\n",
        "\n",
        "def clean(path_):\n",
        "  for f in os.listdir(path_):\n",
        "      os.remove(os.path.join(path_, f))"
      ],
      "execution_count": null,
      "outputs": []
    },
    {
      "cell_type": "markdown",
      "metadata": {
        "id": "SlwLbWevP3i_"
      },
      "source": [
        "Thiết lập đường dẫn để lưu các frame."
      ]
    },
    {
      "cell_type": "code",
      "metadata": {
        "id": "jhZp3TlLaJRF"
      },
      "source": [
        "framePath = \"/content/frame\"\n",
        "output = \"/content/processed_frame\"\n",
        "font = cv2.FONT_HERSHEY_SIMPLEX\n",
        "org = (50, 50)\n",
        "fontScale = 1\n",
        "thickness = 2\n",
        "\n",
        "if not os.path.isdir(framePath):\n",
        "  os.mkdir(framePath)\n",
        "else:\n",
        "  clean(framePath)\n",
        "\n",
        "if not os.path.isdir(output):\n",
        "  os.mkdir(output)\n",
        "else:\n",
        "  clean(output)\n",
        "\n",
        "framePath+=\"/\"\n",
        "output+=\"/\""
      ],
      "execution_count": null,
      "outputs": []
    },
    {
      "cell_type": "markdown",
      "metadata": {
        "id": "6mFAPzqeP_yD"
      },
      "source": [
        "Tiến hành tách frames từ video."
      ]
    },
    {
      "cell_type": "code",
      "metadata": {
        "id": "l9qeMaxda3KX"
      },
      "source": [
        "video_to_images(\"/content/non_accident_1.mp4\", framePath)\n",
        "frame_lst = os.listdir(framePath)"
      ],
      "execution_count": null,
      "outputs": []
    },
    {
      "cell_type": "markdown",
      "metadata": {
        "id": "sWkWoB8_QEKx"
      },
      "source": [
        "Đưa ra dự đoán trên từng frame và đánh label lên góc trái của frame."
      ]
    },
    {
      "cell_type": "code",
      "metadata": {
        "id": "z1lBKgbttv-k"
      },
      "source": [
        "for _ in range(len(frame_lst)):\n",
        "  base_ = cv2.imread(framePath + frame_lst[_])\n",
        "  img_ = image.load_img(framePath + frame_lst[_], target_size = (224,224))\n",
        "  img_ = image.img_to_array(img_)\n",
        "  img_= img_/255\n",
        "  img_ = np.expand_dims(img_, axis = 0)\n",
        "  if model.predict(img_) < 0:\n",
        "    color = (0,0,255)\n",
        "    img_ = cv2.putText(base_, 'Status: accident', org, font, fontScale, color, thickness, cv2.LINE_AA)\n",
        "  else:\n",
        "    color = (124,252,0)\n",
        "    img_ = cv2.putText(base_, 'Status: non-accident', org, font, fontScale, color, thickness, cv2.LINE_AA)\n",
        "  cv2.imwrite(output+str(_)+\".jpg\",img_)"
      ],
      "execution_count": null,
      "outputs": []
    },
    {
      "cell_type": "markdown",
      "metadata": {
        "id": "hBr2K6BtQRoB"
      },
      "source": [
        "Sau khi đã thu được tập các frame được gán label. Ta tiến hành ghép các frame lại với nhau với Frame rate của video gốc (biến FPS_)."
      ]
    },
    {
      "cell_type": "code",
      "metadata": {
        "id": "SLh0XOCntx4u",
        "colab": {
          "base_uri": "https://localhost:8080/"
        },
        "outputId": "97ab5617-0811-4207-afc2-88a4a5c9cafe"
      },
      "source": [
        "pro_frame = os.listdir(output)\n",
        "tmp = cv2.imread(framePath + frame_lst[0]).shape\n",
        "w, h = tmp[1], tmp[0]\n",
        "fourcc = cv2.VideoWriter_fourcc(*'MP4V') \n",
        "video_ = cv2.VideoWriter('/content/predicted_video.mp4', fourcc, FPS_, (w, h))\n",
        "\n",
        "for idx in range (len(pro_frame)):\n",
        "  vid_ = cv2.imread(output+str(idx)+\".jpg\")\n",
        "  video_.write(vid_)\n",
        "print(\"Saved video with name: predicted_video.mp4\")\n",
        "\n",
        "cv2.destroyAllWindows()\n",
        "video_.release()"
      ],
      "execution_count": null,
      "outputs": [
        {
          "output_type": "stream",
          "text": [
            "Saved video with name: predicted_video.mp4\n"
          ],
          "name": "stdout"
        }
      ]
    }
  ]
}