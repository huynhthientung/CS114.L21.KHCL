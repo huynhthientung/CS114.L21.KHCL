{
  "nbformat": 4,
  "nbformat_minor": 0,
  "metadata": {
    "colab": {
      "name": "NBCNews.ipynb",
      "provenance": [],
      "authorship_tag": "ABX9TyNjK8Mvrbiwkzvo4jDnbd2h",
      "include_colab_link": true
    },
    "kernelspec": {
      "name": "python3",
      "display_name": "Python 3"
    },
    "language_info": {
      "name": "python"
    },
    "widgets": {
      "application/vnd.jupyter.widget-state+json": {
        "03cc93e595bf497a83df85bb2c6616b5": {
          "model_module": "@jupyter-widgets/controls",
          "model_name": "HBoxModel",
          "state": {
            "_view_name": "HBoxView",
            "_dom_classes": [],
            "_model_name": "HBoxModel",
            "_view_module": "@jupyter-widgets/controls",
            "_model_module_version": "1.5.0",
            "_view_count": null,
            "_view_module_version": "1.5.0",
            "box_style": "",
            "layout": "IPY_MODEL_29b4d60a47c24dc7a74373f4983107cc",
            "_model_module": "@jupyter-widgets/controls",
            "children": [
              "IPY_MODEL_3c8069473dbb4e5e886beb9e72643998",
              "IPY_MODEL_1460c1bbea0244afb88e8776dcd3634d"
            ]
          }
        },
        "29b4d60a47c24dc7a74373f4983107cc": {
          "model_module": "@jupyter-widgets/base",
          "model_name": "LayoutModel",
          "state": {
            "_view_name": "LayoutView",
            "grid_template_rows": null,
            "right": null,
            "justify_content": null,
            "_view_module": "@jupyter-widgets/base",
            "overflow": null,
            "_model_module_version": "1.2.0",
            "_view_count": null,
            "flex_flow": null,
            "width": null,
            "min_width": null,
            "border": null,
            "align_items": null,
            "bottom": null,
            "_model_module": "@jupyter-widgets/base",
            "top": null,
            "grid_column": null,
            "overflow_y": null,
            "overflow_x": null,
            "grid_auto_flow": null,
            "grid_area": null,
            "grid_template_columns": null,
            "flex": null,
            "_model_name": "LayoutModel",
            "justify_items": null,
            "grid_row": null,
            "max_height": null,
            "align_content": null,
            "visibility": null,
            "align_self": null,
            "height": null,
            "min_height": null,
            "padding": null,
            "grid_auto_rows": null,
            "grid_gap": null,
            "max_width": null,
            "order": null,
            "_view_module_version": "1.2.0",
            "grid_template_areas": null,
            "object_position": null,
            "object_fit": null,
            "grid_auto_columns": null,
            "margin": null,
            "display": null,
            "left": null
          }
        },
        "3c8069473dbb4e5e886beb9e72643998": {
          "model_module": "@jupyter-widgets/controls",
          "model_name": "FloatProgressModel",
          "state": {
            "_view_name": "ProgressView",
            "style": "IPY_MODEL_31384629a165480b9d4046054a562e2f",
            "_dom_classes": [],
            "description": "year: 100%",
            "_model_name": "FloatProgressModel",
            "bar_style": "success",
            "max": 2,
            "_view_module": "@jupyter-widgets/controls",
            "_model_module_version": "1.5.0",
            "value": 2,
            "_view_count": null,
            "_view_module_version": "1.5.0",
            "orientation": "horizontal",
            "min": 0,
            "description_tooltip": null,
            "_model_module": "@jupyter-widgets/controls",
            "layout": "IPY_MODEL_f9cb03e5c470497e9c0ecc709e0e0fca"
          }
        },
        "1460c1bbea0244afb88e8776dcd3634d": {
          "model_module": "@jupyter-widgets/controls",
          "model_name": "HTMLModel",
          "state": {
            "_view_name": "HTMLView",
            "style": "IPY_MODEL_69403fb6e05a49f0aecd97d309c13ba4",
            "_dom_classes": [],
            "description": "",
            "_model_name": "HTMLModel",
            "placeholder": "​",
            "_view_module": "@jupyter-widgets/controls",
            "_model_module_version": "1.5.0",
            "value": " 2/2 [00:16&lt;00:00,  8.04s/it]",
            "_view_count": null,
            "_view_module_version": "1.5.0",
            "description_tooltip": null,
            "_model_module": "@jupyter-widgets/controls",
            "layout": "IPY_MODEL_1ffaf7abba2e4af4a9ba1faa522ee2a3"
          }
        },
        "31384629a165480b9d4046054a562e2f": {
          "model_module": "@jupyter-widgets/controls",
          "model_name": "ProgressStyleModel",
          "state": {
            "_view_name": "StyleView",
            "_model_name": "ProgressStyleModel",
            "description_width": "initial",
            "_view_module": "@jupyter-widgets/base",
            "_model_module_version": "1.5.0",
            "_view_count": null,
            "_view_module_version": "1.2.0",
            "bar_color": null,
            "_model_module": "@jupyter-widgets/controls"
          }
        },
        "f9cb03e5c470497e9c0ecc709e0e0fca": {
          "model_module": "@jupyter-widgets/base",
          "model_name": "LayoutModel",
          "state": {
            "_view_name": "LayoutView",
            "grid_template_rows": null,
            "right": null,
            "justify_content": null,
            "_view_module": "@jupyter-widgets/base",
            "overflow": null,
            "_model_module_version": "1.2.0",
            "_view_count": null,
            "flex_flow": null,
            "width": null,
            "min_width": null,
            "border": null,
            "align_items": null,
            "bottom": null,
            "_model_module": "@jupyter-widgets/base",
            "top": null,
            "grid_column": null,
            "overflow_y": null,
            "overflow_x": null,
            "grid_auto_flow": null,
            "grid_area": null,
            "grid_template_columns": null,
            "flex": null,
            "_model_name": "LayoutModel",
            "justify_items": null,
            "grid_row": null,
            "max_height": null,
            "align_content": null,
            "visibility": null,
            "align_self": null,
            "height": null,
            "min_height": null,
            "padding": null,
            "grid_auto_rows": null,
            "grid_gap": null,
            "max_width": null,
            "order": null,
            "_view_module_version": "1.2.0",
            "grid_template_areas": null,
            "object_position": null,
            "object_fit": null,
            "grid_auto_columns": null,
            "margin": null,
            "display": null,
            "left": null
          }
        },
        "69403fb6e05a49f0aecd97d309c13ba4": {
          "model_module": "@jupyter-widgets/controls",
          "model_name": "DescriptionStyleModel",
          "state": {
            "_view_name": "StyleView",
            "_model_name": "DescriptionStyleModel",
            "description_width": "",
            "_view_module": "@jupyter-widgets/base",
            "_model_module_version": "1.5.0",
            "_view_count": null,
            "_view_module_version": "1.2.0",
            "_model_module": "@jupyter-widgets/controls"
          }
        },
        "1ffaf7abba2e4af4a9ba1faa522ee2a3": {
          "model_module": "@jupyter-widgets/base",
          "model_name": "LayoutModel",
          "state": {
            "_view_name": "LayoutView",
            "grid_template_rows": null,
            "right": null,
            "justify_content": null,
            "_view_module": "@jupyter-widgets/base",
            "overflow": null,
            "_model_module_version": "1.2.0",
            "_view_count": null,
            "flex_flow": null,
            "width": null,
            "min_width": null,
            "border": null,
            "align_items": null,
            "bottom": null,
            "_model_module": "@jupyter-widgets/base",
            "top": null,
            "grid_column": null,
            "overflow_y": null,
            "overflow_x": null,
            "grid_auto_flow": null,
            "grid_area": null,
            "grid_template_columns": null,
            "flex": null,
            "_model_name": "LayoutModel",
            "justify_items": null,
            "grid_row": null,
            "max_height": null,
            "align_content": null,
            "visibility": null,
            "align_self": null,
            "height": null,
            "min_height": null,
            "padding": null,
            "grid_auto_rows": null,
            "grid_gap": null,
            "max_width": null,
            "order": null,
            "_view_module_version": "1.2.0",
            "grid_template_areas": null,
            "object_position": null,
            "object_fit": null,
            "grid_auto_columns": null,
            "margin": null,
            "display": null,
            "left": null
          }
        }
      }
    }
  },
  "cells": [
    {
      "cell_type": "markdown",
      "metadata": {
        "id": "view-in-github",
        "colab_type": "text"
      },
      "source": [
        "<a href=\"https://colab.research.google.com/github/huynhthientung/CS114.L21.KHCL/blob/thanh%2Fpredict_final_0606/NBCNews.ipynb\" target=\"_parent\"><img src=\"https://colab.research.google.com/assets/colab-badge.svg\" alt=\"Open In Colab\"/></a>"
      ]
    },
    {
      "cell_type": "markdown",
      "metadata": {
        "id": "CJdztzLwvFDq"
      },
      "source": [
        "# **Scrape từ trang NBC News: https://www.nbcnews.com/\n",
        "\n",
        "Tờ báo này có phân loại các headline theo năm tại: https://www.nbcnews.com/archive/\n",
        "Nên nhóm sẽ scrape tại đây."
      ]
    },
    {
      "cell_type": "markdown",
      "metadata": {
        "id": "u3C4hvBIvgZE"
      },
      "source": [
        "Import các thư viện cần thiết"
      ]
    },
    {
      "cell_type": "code",
      "metadata": {
        "id": "0sYf_6BTy5tx"
      },
      "source": [
        "import requests\n",
        "from bs4 import BeautifulSoup\n",
        "from tqdm.notebook import tqdm # để theo dõi tiến trình\n",
        "import json"
      ],
      "execution_count": 48,
      "outputs": []
    },
    {
      "cell_type": "code",
      "metadata": {
        "id": "1c5I0taZlzjc"
      },
      "source": [
        "dataNBC = []\n",
        "\n",
        "def getData(URL):\n",
        "  count = 0;\n",
        "  page = requests.get(URL)\n",
        "  soup = BeautifulSoup(page.content, 'html.parser')\n",
        "  getMonth = soup.find(\"main\", class_ = \"MonthPage\")\n",
        "  Month = getMonth.findAll(\"a\")\n",
        "  for i in Month:\n",
        "    link = i.get(\"href\")\n",
        "    headline = i.text\n",
        "    dataNBC.append([headline,link,0])\n",
        "    count+=1\n",
        "  # print(dataNBC)\n",
        "  return count\n"
      ],
      "execution_count": 49,
      "outputs": []
    },
    {
      "cell_type": "markdown",
      "metadata": {
        "id": "TTETQCgDbRjG"
      },
      "source": [
        "Cho chạy từng trang theo từng tháng/năm"
      ]
    },
    {
      "cell_type": "code",
      "metadata": {
        "id": "MDc-B380y59C"
      },
      "source": [
        "arr_url =[]\n",
        "month =  ['january', 'february', 'march', 'april', 'may', 'june', 'july', 'august', 'september', 'october','november','december',]\n",
        "def sendRequest(year, month):\n",
        "  count = 0\n",
        "  for i in range(1,3): # Vì mỗi năm được chia làm 2 trang: 6 tháng đầu và 6 tháng sau\n",
        "    if (i==1):\n",
        "      url = 'https://www.nbcnews.com/archive/articles/' + str(year) + '/' + month\n",
        "    if (i==2):\n",
        "      url = 'https://www.nbcnews.com/archive/articles/' + str(year) + '/' + month + '/' + str(i)\n",
        "    arr_url.append(url)\n",
        "    count += getData(url)\n",
        "  return count\n"
      ],
      "execution_count": 50,
      "outputs": []
    },
    {
      "cell_type": "markdown",
      "metadata": {
        "id": "4QVnHImKkZVO"
      },
      "source": [
        "Crawl..."
      ]
    },
    {
      "cell_type": "code",
      "metadata": {
        "id": "0vd1O8ssy6Fe",
        "colab": {
          "base_uri": "https://localhost:8080/",
          "height": 82,
          "referenced_widgets": [
            "03cc93e595bf497a83df85bb2c6616b5",
            "29b4d60a47c24dc7a74373f4983107cc",
            "3c8069473dbb4e5e886beb9e72643998",
            "1460c1bbea0244afb88e8776dcd3634d",
            "31384629a165480b9d4046054a562e2f",
            "f9cb03e5c470497e9c0ecc709e0e0fca",
            "69403fb6e05a49f0aecd97d309c13ba4",
            "1ffaf7abba2e4af4a9ba1faa522ee2a3"
          ]
        },
        "outputId": "9167ea14-4620-40ef-b558-f4c8ab789c71"
      },
      "source": [
        "# crawl\n",
        "\n",
        "count = 0\n",
        "for year in tqdm(range(2019,2021), desc = 'year'):\n",
        "  for m in month:\n",
        "    count+= sendRequest(year,m)\n",
        "for m in range(5):\n",
        "  count+= sendRequest(2021,month[m])\n",
        "print(\"Crawled:\", count)"
      ],
      "execution_count": 51,
      "outputs": [
        {
          "output_type": "display_data",
          "data": {
            "application/vnd.jupyter.widget-view+json": {
              "model_id": "03cc93e595bf497a83df85bb2c6616b5",
              "version_minor": 0,
              "version_major": 2
            },
            "text/plain": [
              "HBox(children=(FloatProgress(value=0.0, description='year', max=2.0, style=ProgressStyle(description_width='in…"
            ]
          },
          "metadata": {
            "tags": []
          }
        },
        {
          "output_type": "stream",
          "text": [
            "\n",
            "Crawled: 49609\n"
          ],
          "name": "stdout"
        }
      ]
    },
    {
      "cell_type": "markdown",
      "metadata": {
        "id": "xnlwkiNRkPb9"
      },
      "source": [
        "Ghi file json"
      ]
    },
    {
      "cell_type": "code",
      "metadata": {
        "id": "wjStY1TIy6Di"
      },
      "source": [
        "with open('NBCNews', 'w') as f:\n",
        "  for i in dataNBC:\n",
        "    f.write('{\"headline\": \"' + i[0] + '\", \"article_link\": \"' + i[1] +', \"is_sarcastic\": ' + str(i[2]) + '\"}\\n')"
      ],
      "execution_count": 53,
      "outputs": []
    }
  ]
}